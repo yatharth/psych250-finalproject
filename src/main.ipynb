{
 "cells": [
  {
   "cell_type": "markdown",
   "metadata": {},
   "source": [
    "# Facial Inversion Effect in CNNs\n",
    "\n",
    "This notebook is structured as follows:\n",
    "\n",
    "1. Imports\n",
    "2. Loading the data\n",
    "3. Creating the model and optimizer\n",
    "4. Training\n",
    "5. Plotting and saving the results\n",
    "\n",
    "See the README file in the root of the repository for more information.\n",
    "\n",
    "## Imports"
   ]
  },
  {
   "cell_type": "code",
   "execution_count": 2,
   "metadata": {
    "collapsed": false,
    "jupyter": {
     "outputs_hidden": false
    }
   },
   "outputs": [
    {
     "name": "stdout",
     "output_type": "stream",
     "text": [
      "PyTorch Version:  1.8.0\n",
      "Torchvision Version:  0.9.0\n"
     ]
    }
   ],
   "source": [
    "import os\n",
    "import time\n",
    "import copy\n",
    "\n",
    "import operator\n",
    "from collections import Counter\n",
    "from functools import reduce\n",
    "\n",
    "import numpy as np\n",
    "import pandas as pd\n",
    "import matplotlib.pyplot as plt\n",
    "%matplotlib inline\n",
    "import seaborn as sns; sns.set_style('darkgrid')\n",
    "\n",
    "import torch\n",
    "import torch.nn as nn\n",
    "import torchvision\n",
    "\n",
    "from tqdm.auto import tqdm\n",
    "import attach\n",
    "\n",
    "print(\"PyTorch Version: \",torch.__version__)\n",
    "print(\"Torchvision Version: \",torchvision.__version__)"
   ]
  },
  {
   "cell_type": "code",
   "execution_count": 3,
   "metadata": {},
   "outputs": [],
   "source": [
    "device = torch.device(\"cuda:0\" if torch.cuda.is_available() else \"cpu\")"
   ]
  },
  {
   "cell_type": "code",
   "execution_count": 4,
   "metadata": {},
   "outputs": [],
   "source": [
    "# For PyTorch’s SqueezeNet, this is 224; change if using a different model.\n",
    "input_size = 224"
   ]
  },
  {
   "cell_type": "markdown",
   "metadata": {},
   "source": [
    "## Loading the dataset"
   ]
  },
  {
   "cell_type": "code",
   "execution_count": 5,
   "metadata": {},
   "outputs": [
    {
     "name": "stdout",
     "output_type": "stream",
     "text": [
      "Files already downloaded and verified\n"
     ]
    },
    {
     "data": {
      "text/plain": [
       "Dataset CelebA\n",
       "    Number of datapoints: 202599\n",
       "    Root location: data\n",
       "    Target type: ['identity']\n",
       "    Split: all"
      ]
     },
     "execution_count": 5,
     "metadata": {},
     "output_type": "execute_result"
    }
   ],
   "source": [
    "# Download the CelebA dataset.\n",
    "\n",
    "def CelebA(transform=None, target_transform=None, download=False):\n",
    "    return torchvision.datasets.CelebA(\n",
    "        root='data',\n",
    "        split='all',\n",
    "        target_type='identity',\n",
    "        transform=transform,\n",
    "        target_transform=target_transform,\n",
    "        download=download,\n",
    "    )\n",
    "\n",
    "dataset = CelebA(download=True)\n",
    "dataset"
   ]
  },
  {
   "cell_type": "code",
   "execution_count": 6,
   "metadata": {},
   "outputs": [],
   "source": [
    "# “Identity” is an integer assigned to each celebrity. This is the class to be predicted.\n",
    "# Multiple shots of same celebrity will have the same identity.\n",
    "\n",
    "# Identity of each sample.\n",
    "identity = pd.Series(dataset.identity.squeeze())\n",
    "\n",
    "# How many times each identity appears.\n",
    "samples_per_class = identity.value_counts()\n",
    "\n",
    "# How many classes are of a certain size.\n",
    "classes_per_size = identity.value_counts().value_counts()\n",
    "\n",
    "num_classes_possible = len(samples_per_class)\n",
    "print(f\"The CelebA dataset has {len(dataset.identity)} samples across {num_classes_possible} classes.\")"
   ]
  },
  {
   "cell_type": "code",
   "execution_count": 20,
   "metadata": {},
   "outputs": [
    {
     "name": "stdout",
     "output_type": "stream",
     "text": [
      "First column is size of class; second column is how many classes have that size.\n"
     ]
    },
    {
     "data": {
      "text/plain": [
       "35       3\n",
       "34       2\n",
       "32       3\n",
       "31       9\n",
       "30    2343\n",
       "29     493\n",
       "28     216\n",
       "27     125\n",
       "26     106\n",
       "25     361\n",
       "24     290\n",
       "23     369\n",
       "22     419\n",
       "21     565\n",
       "20    1044\n",
       "19     288\n",
       "18     217\n",
       "17     173\n",
       "16     219\n",
       "15     172\n",
       "14     210\n",
       "13     176\n",
       "12     165\n",
       "11     199\n",
       "10     202\n",
       "9      187\n",
       "8      176\n",
       "7      183\n",
       "6      207\n",
       "5      221\n",
       "4      221\n",
       "3      245\n",
       "2      324\n",
       "1       44\n",
       "dtype: int64"
      ]
     },
     "execution_count": 20,
     "metadata": {},
     "output_type": "execute_result"
    }
   ],
   "source": [
    "print(\"First column is size of class; second column is how many classes have that size.\")\n",
    "classes_per_size.sort_index(ascending=False)"
   ]
  },
  {
   "cell_type": "code",
   "execution_count": 9,
   "metadata": {},
   "outputs": [],
   "source": [
    "# Some classes have barely any samples!\n",
    "# Let’s filter by classes that have 30 samples exactly, to ensure we have enough per class.\n",
    "classes_with_right_size = list(samples_per_class[samples_per_class == 30].index)"
   ]
  },
  {
   "cell_type": "code",
   "execution_count": 10,
   "metadata": {},
   "outputs": [],
   "source": [
    "# To speed up training, we’ll only work with 20 classes.\n",
    "NUM_CLASSES = 20"
   ]
  },
  {
   "cell_type": "code",
   "execution_count": 21,
   "metadata": {},
   "outputs": [
    {
     "name": "stdout",
     "output_type": "stream",
     "text": [
      "We selected 20 of the 2343 classes with size 30 each.\n"
     ]
    }
   ],
   "source": [
    "# Choose the classes to work with.\n",
    "\n",
    "chosen_classes = classes_with_right_size[:NUM_CLASSES]\n",
    "\n",
    "# Facilitate renumbering of chosen classes as 0, 1, 2, 3 etc. rather than 7755, 7883, 8011.\n",
    "# class_to_class_idx = {\n",
    "#     cls: i\n",
    "#     for i, cls in enumerate(chosen_classes)\n",
    "# }\n",
    "\n",
    "print(f\"We selected {NUM_CLASSES} of the {len(classes_with_right_size)} classes with size {30} each.\")"
   ]
  },
  {
   "cell_type": "code",
   "execution_count": 22,
   "metadata": {},
   "outputs": [
    {
     "name": "stdout",
     "output_type": "stream",
     "text": [
      "We have 400 training examples, 180 for validation, and 20 for testing.\n"
     ]
    }
   ],
   "source": [
    "# Split into training, validation, test.\n",
    "# We don’t really use the test dataset here; hence why it’s small and left alone.\n",
    "\n",
    "idx_for_class = {\n",
    "    \n",
    "    cls:\n",
    "        list(identity[identity == cls].index)\n",
    "    \n",
    "    for cls in chosen_classes\n",
    "}\n",
    "\n",
    "flatten = lambda arr: np.array(arr).flatten()\n",
    "\n",
    "train_idx, val_idx, test_idx = map(flatten, zip(*[\n",
    "    (idx[:20], idx[20:29], idx[29:])\n",
    "    for idx in idx_for_class.values()\n",
    "]))\n",
    "\n",
    "print(f\"We have {len(train_idx)} training examples, {len(val_idx)} for validation, and {len(test_idx)} for testing.\")"
   ]
  },
  {
   "cell_type": "code",
   "execution_count": 29,
   "metadata": {},
   "outputs": [],
   "source": [
    "# Applying transforms to the data.\n",
    "# - Data augmentation and normalization for training.\n",
    "# - Just normalization for validation.\n",
    "# - Normalisation and vertical flipping to evaluate accuracy on inverted images.\n",
    "\n",
    "transforms = torchvision.transforms\n",
    "\n",
    "train_transform = transforms.Compose([\n",
    "    transforms.RandomResizedCrop(input_size),\n",
    "    transforms.RandomHorizontalFlip(),\n",
    "    transforms.ToTensor(),\n",
    "    transforms.Normalize([0.485, 0.456, 0.406], [0.229, 0.224, 0.225])\n",
    "])\n",
    "\n",
    "eval_transform = transforms.Compose([\n",
    "    transforms.Resize(input_size),\n",
    "    transforms.CenterCrop(input_size),\n",
    "    transforms.ToTensor(),\n",
    "    transforms.Normalize([0.485, 0.456, 0.406], [0.229, 0.224, 0.225])\n",
    "])\n",
    "\n",
    "inv_eval_transform = transforms.Compose([\n",
    "    transforms.RandomVerticalFlip(1),  # 1 means always flip\n",
    "    eval_transform\n",
    "])"
   ]
  },
  {
   "cell_type": "code",
   "execution_count": 17,
   "metadata": {},
   "outputs": [],
   "source": [
    "# TODO: Make model have only NUM_CLASSES outputs, rather than num_classes_possible. Would help reduce parameters vastly;\n",
    "#\n",
    "# @torchvision.transforms.Lambda\n",
    "# def target_transform_(label):\n",
    "#     print(label.item(), class_to_class_idx.get(label.item()))\n",
    "#     return torch.Tensor([class_to_class_idx.get(label.item(), 0)])\n",
    "\n",
    "target_transform = None"
   ]
  },
  {
   "cell_type": "code",
   "execution_count": 30,
   "metadata": {},
   "outputs": [],
   "source": [
    "# Subset the original dataset using the train/val/test indices provided.\n",
    "\n",
    "make_subset = lambda transform, idx: torch.utils.data.Subset(\n",
    "    CelebA(transform=transform, target_transform=target_transform),\n",
    "    idx)\n",
    "\n",
    "train_subset = make_subset(train_transform, train_idx)\n",
    "val_subset   = make_subset(eval_transform,  val_idx)\n",
    "test_subset  = make_subset(eval_transform,  test_idx)\n",
    "\n",
    "inv_subset   = make_subset(inv_eval_transform,  val_idx)"
   ]
  },
  {
   "cell_type": "code",
   "execution_count": 31,
   "metadata": {},
   "outputs": [],
   "source": [
    "# Create batch-based data loaders.\n",
    "\n",
    "BATCH_SIZE = 8\n",
    "\n",
    "make_dataloader = (lambda subset:\n",
    "    torch.utils.data.DataLoader(\n",
    "        subset,\n",
    "        batch_size=BATCH_SIZE,\n",
    "        shuffle=True,\n",
    "        num_workers=4))\n",
    "\n",
    "train_dataloader = make_dataloader(train_subset)\n",
    "val_dataloader   = make_dataloader(val_subset)\n",
    "test_dataloader  = make_dataloader(test_subset)\n",
    "inv_dataloader   = make_dataloader(inv_subset)"
   ]
  },
  {
   "cell_type": "markdown",
   "metadata": {},
   "source": [
    "## Creating the model and optimiser\n",
    "\n",
    "The model is SqueezeNet 1.0 architecture, selected due to its small parameter size. The initial weights come from pre-training on ImageNet. The last classifier layer is changed to have as many outputs as there are classes. This output will then get softmaxed and compared to the true label using PyTorch’s CrossEntropyLoss criterion.\n",
    "\n",
    "Note in particular the `FEATURE_EXTRACT` flag. When False, the entire model is fine-tuned; when True, only the last classifier layer’s weights are updated. The latter is achieved by setting `requires_grad` to False for all the model weights. Then the classifier layer is replaced, which has `requires_grad` set to True by default.\n",
    "\n",
    "We use SGD for optimisation. Adam didn’t work as well, despite playing around with different learning rates."
   ]
  },
  {
   "cell_type": "code",
   "execution_count": 33,
   "metadata": {},
   "outputs": [],
   "source": [
    "FEATURE_EXTRACT = False"
   ]
  },
  {
   "cell_type": "code",
   "execution_count": 34,
   "metadata": {},
   "outputs": [],
   "source": [
    "model = torchvision.models.squeezenet1_0(pretrained=True)\n",
    "\n",
    "if FEATURE_EXTRACT:\n",
    "    for param in model.parameters():\n",
    "        param.requires_grad = False\n",
    "\n",
    "# Change final layer to match number of classes being predicted.\n",
    "# These will have requires_grad=True by default.\n",
    "model.classifier[1] = nn.Conv2d(512, num_classes_possible, kernel_size=(1,1), stride=(1,1))\n",
    "model.num_classes = num_classes_possible\n",
    "\n",
    "model = model.to(device)"
   ]
  },
  {
   "cell_type": "code",
   "execution_count": 35,
   "metadata": {},
   "outputs": [
    {
     "name": "stdout",
     "output_type": "stream",
     "text": [
      "Params to train:\n",
      "   features.0.weight\n",
      "   features.0.bias\n",
      "   features.3.squeeze.weight\n",
      "   features.3.squeeze.bias\n",
      "   features.3.expand1x1.weight\n",
      "   features.3.expand1x1.bias\n",
      "   features.3.expand3x3.weight\n",
      "   features.3.expand3x3.bias\n",
      "   features.4.squeeze.weight\n",
      "   features.4.squeeze.bias\n",
      "   features.4.expand1x1.weight\n",
      "   features.4.expand1x1.bias\n",
      "   features.4.expand3x3.weight\n",
      "   features.4.expand3x3.bias\n",
      "   features.5.squeeze.weight\n",
      "   features.5.squeeze.bias\n",
      "   features.5.expand1x1.weight\n",
      "   features.5.expand1x1.bias\n",
      "   features.5.expand3x3.weight\n",
      "   features.5.expand3x3.bias\n",
      "   features.7.squeeze.weight\n",
      "   features.7.squeeze.bias\n",
      "   features.7.expand1x1.weight\n",
      "   features.7.expand1x1.bias\n",
      "   features.7.expand3x3.weight\n",
      "   features.7.expand3x3.bias\n",
      "   features.8.squeeze.weight\n",
      "   features.8.squeeze.bias\n",
      "   features.8.expand1x1.weight\n",
      "   features.8.expand1x1.bias\n",
      "   features.8.expand3x3.weight\n",
      "   features.8.expand3x3.bias\n",
      "   features.9.squeeze.weight\n",
      "   features.9.squeeze.bias\n",
      "   features.9.expand1x1.weight\n",
      "   features.9.expand1x1.bias\n",
      "   features.9.expand3x3.weight\n",
      "   features.9.expand3x3.bias\n",
      "   features.10.squeeze.weight\n",
      "   features.10.squeeze.bias\n",
      "   features.10.expand1x1.weight\n",
      "   features.10.expand1x1.bias\n",
      "   features.10.expand3x3.weight\n",
      "   features.10.expand3x3.bias\n",
      "   features.12.squeeze.weight\n",
      "   features.12.squeeze.bias\n",
      "   features.12.expand1x1.weight\n",
      "   features.12.expand1x1.bias\n",
      "   features.12.expand3x3.weight\n",
      "   features.12.expand3x3.bias\n",
      "   classifier.1.weight\n",
      "   classifier.1.bias\n"
     ]
    }
   ],
   "source": [
    "params_to_optimize = {}\n",
    "for name, param in model.named_parameters():\n",
    "    if param.requires_grad == True:\n",
    "        params_to_optimize[name] = param\n",
    "    \n",
    "print(\"Params to train:\")\n",
    "for name, param in params_to_optimize.items():\n",
    "    print(\" \"*2, name)\n",
    "\n",
    "optimizer = torch.optim.SGD(params_to_optimize.values(), lr=0.001, momentum=0.9)"
   ]
  },
  {
   "cell_type": "markdown",
   "metadata": {},
   "source": [
    "## Training the model"
   ]
  },
  {
   "cell_type": "code",
   "execution_count": 25,
   "metadata": {},
   "outputs": [],
   "source": [
    "# The training state is updated after each epoch of training and persisted to disk.\n",
    "\n",
    "training_state = {\n",
    "    \n",
    "    'epochs_done': 0,\n",
    "    \n",
    "    'train_loss': [],\n",
    "    'train_acc': [],\n",
    "    'val_loss': [],\n",
    "    'val_acc': [],\n",
    "    'inv_loss': [],\n",
    "    'inv_acc': [],\n",
    "    \n",
    "    # Commented because saving all model weights consumed way too much memory.\n",
    "    # 'model_weights': [],\n",
    "    \n",
    "    'best_acc': 0,\n",
    "    'best_model_weights': None,\n",
    "\n",
    "}\n",
    "\n",
    "def training_state_filepath(epoch=None):\n",
    "    if epoch is None:\n",
    "        epoch = training_state['epochs_done']\n",
    "    return f'''saved_state/{experiment_name}_{\"featureextract\" if FEATURE_EXTRACT else \"finetune\"}_epoch{epoch}.pt'''\n",
    "\n",
    "def load_training_state(epoch):\n",
    "    global training_state, model\n",
    "    training_state = torch.load(training_state_filepath(epoch))\n",
    "    model.load_state_dict(training_state['best_model_weights'])"
   ]
  },
  {
   "cell_type": "code",
   "execution_count": 19,
   "metadata": {},
   "outputs": [],
   "source": [
    "criterion = nn.CrossEntropyLoss()"
   ]
  },
  {
   "cell_type": "code",
   "execution_count": 20,
   "metadata": {},
   "outputs": [],
   "source": [
    "def weights(model):\n",
    "    \"\"\" Get copy of model state \"\"\"\n",
    "    # model.state_dict() encompasses more than model.parameters().\n",
    "    return copy.deepcopy(model.state_dict())"
   ]
  },
  {
   "cell_type": "code",
   "execution_count": 21,
   "metadata": {},
   "outputs": [],
   "source": [
    "def train_epoch():\n",
    "    \n",
    "    # Mintaining running stats, updated for each batch.\n",
    "    running_loss = 0\n",
    "    running_corrects = 0\n",
    "    \n",
    "    # The train phase trains, the validation phase just evaluates, and\n",
    "    #  the inv phase is the same, but evaluating on inverted images.\n",
    "    for phase in ['train', 'valid', 'inv']:\n",
    "\n",
    "        # Changes behaviour of special features like Dropout and BatchNorm.\n",
    "        if phase == 'train':\n",
    "            model.train()\n",
    "        else:\n",
    "            model.eval()\n",
    "        \n",
    "        # Select dataloader.\n",
    "        if phase == 'train':\n",
    "            dataloader = train_dataloader\n",
    "        elif phase == 'valid':\n",
    "            dataloader = val_dataloader\n",
    "        elif phase == 'inv': \n",
    "            dataloader = inv_dataloader\n",
    "        else:\n",
    "            assert False\n",
    "\n",
    "        # Update the running stats.\n",
    "        running_loss = 0\n",
    "        running_corrects = 0\n",
    "\n",
    "        for inputs, labels in tqdm(dataloader):\n",
    "            \n",
    "            inputs = inputs.to(device)\n",
    "            labels = labels.to(device)\n",
    "\n",
    "            optimizer.zero_grad()\n",
    "\n",
    "            # Forwards phase: enable gradient tracking only if training.\n",
    "            with torch.set_grad_enabled(phase == 'train'):\n",
    "\n",
    "                # Notes:\n",
    "                # - `outputs` contains non-softmaxed output for each class for each sample.\n",
    "                # - CrossEntropyLoss takes care of softmaxing and comparing to the true class.\n",
    "                # - torch.max returns max and index of max; we want the latter, i.e. the maximising class.\n",
    "                \n",
    "                outputs = model(inputs)\n",
    "                loss = criterion(outputs, labels)\n",
    "                _, preds = torch.max(outputs, axis=1)                \n",
    "\n",
    "                # Backwards phase: optimize only if in training.\n",
    "                if phase == 'train':\n",
    "                    loss.backward()\n",
    "                    optimizer.step()\n",
    "\n",
    "            # Update running stats for this batch.\n",
    "            running_loss += loss.item() * inputs.size(0)\n",
    "            running_corrects += torch.sum(preds == labels.data)\n",
    "            \n",
    "        # Notes:\n",
    "        # - Need to convert `running_corrects` into a double datatype, to support float division. \n",
    "\n",
    "        # Compute final epoch stats.\n",
    "        epoch_loss = running_loss / len(dataloader.dataset)\n",
    "        epoch_acc = running_corrects.double() / len(dataloader.dataset)\n",
    "        \n",
    "        print('{} loss: {:.4f} acc: {:.2f}%'.format(phase, epoch_loss, epoch_acc*100))\n",
    "        \n",
    "        # Update the training state.\n",
    "        global training_state\n",
    "\n",
    "        if phase == 'train':\n",
    "            \n",
    "            training_state['epochs_done'] += 1\n",
    "            \n",
    "            training_state['train_loss'].append(epoch_loss)\n",
    "            training_state['train_acc'].append(epoch_acc)\n",
    "            \n",
    "            # training_state['model_weights'].append(weights(model))\n",
    "        \n",
    "        elif phase == 'valid':\n",
    "            \n",
    "            training_state['val_loss'].append(epoch_loss)\n",
    "            training_state['val_acc'].append(epoch_acc)\n",
    "            \n",
    "            if epoch_acc > training_state['best_acc']:\n",
    "                training_state['best_acc'] = epoch_acc\n",
    "                training_state['best_model_weights'] = weights(model)\n",
    "            \n",
    "           \n",
    "        elif phase == 'inv':\n",
    "            \n",
    "            training_state['inv_loss'].append(epoch_loss)\n",
    "            training_state['inv_acc'].append(epoch_acc)\n",
    "            \n",
    "            torch.save(training_state, training_state_filepath())"
   ]
  },
  {
   "cell_type": "code",
   "execution_count": 22,
   "metadata": {
    "collapsed": false,
    "jupyter": {
     "outputs_hidden": false
    }
   },
   "outputs": [],
   "source": [
    "def train_more(num_epochs):\n",
    "    \n",
    "    # Restore model to last trained state.\n",
    "    # if training_state['epochs_done'] > 0:\n",
    "    #     model.load_state_dict(training_state['last_model_weights'][-1])\n",
    "    \n",
    "    for _ in range(num_epochs):\n",
    "    \n",
    "        epoch = training_state['epochs_done']\n",
    "        \n",
    "        print(f'Epoch {epoch+1}')\n",
    "        print('-' * 10)\n",
    "    \n",
    "        train_epoch()\n",
    "\n",
    "        print()\n",
    "        \n",
    "    # Put model in best-so-far state.\n",
    "    # model.load_state_dict(training_state['best_model_weights'])"
   ]
  },
  {
   "cell_type": "code",
   "execution_count": 23,
   "metadata": {
    "tags": []
   },
   "outputs": [],
   "source": [
    "# Notes before training:\n",
    "#\n",
    "# - Make sure to reset `training_state`.\n",
    "# - Make sure to reset model pre-trained weights.\n",
    "# - Make sure to set experiment name correctly."
   ]
  },
  {
   "cell_type": "code",
   "execution_count": 24,
   "metadata": {
    "tags": []
   },
   "outputs": [],
   "source": [
    "experiment_name = '5_sgd'"
   ]
  },
  {
   "cell_type": "code",
   "execution_count": null,
   "metadata": {},
   "outputs": [],
   "source": [
    "train_more(10)"
   ]
  },
  {
   "cell_type": "code",
   "execution_count": null,
   "metadata": {},
   "outputs": [],
   "source": [
    "train_more(10)"
   ]
  },
  {
   "cell_type": "code",
   "execution_count": null,
   "metadata": {},
   "outputs": [],
   "source": [
    "# Got interrupted; restore state from epoch 20 from disk.\n",
    "load_training_state(20)"
   ]
  },
  {
   "cell_type": "code",
   "execution_count": null,
   "metadata": {},
   "outputs": [],
   "source": [
    "train_more(10)"
   ]
  },
  {
   "cell_type": "code",
   "execution_count": null,
   "metadata": {},
   "outputs": [],
   "source": [
    "# Seemed to hav achieved convergence; stop now."
   ]
  },
  {
   "cell_type": "markdown",
   "metadata": {},
   "source": [
    "## Plotting and saving the results"
   ]
  },
  {
   "cell_type": "code",
   "execution_count": 45,
   "metadata": {},
   "outputs": [
    {
     "data": {
      "text/plain": [
       "[]"
      ]
     },
     "execution_count": 45,
     "metadata": {},
     "output_type": "execute_result"
    },
    {
     "data": {
      "image/png": "[encoded data removed]",
      "text/plain": [
       "<Figure size 432x288 with 1 Axes>"
      ]
     },
     "metadata": {},
     "output_type": "display_data"
    }
   ],
   "source": [
    "plt.plot(np.array(training_state['train_loss']), label='train')\n",
    "plt.plot(np.array(training_state['val_loss']), label='val')\n",
    "plt.plot(np.array(training_state['inv_loss']), label='inv')\n",
    "plt.legend()\n",
    "plt.xlim(0, 30)\n",
    "plt.title('loss')\n",
    "plt.savefig(f'plots/{experiment_name}_acc.png')\n",
    "plt.plot()"
   ]
  },
  {
   "cell_type": "code",
   "execution_count": 46,
   "metadata": {},
   "outputs": [
    {
     "data": {
      "text/plain": [
       "[]"
      ]
     },
     "execution_count": 46,
     "metadata": {},
     "output_type": "execute_result"
    },
    {
     "data": {
      "image/png": "[encoded data removed]",
      "text/plain": [
       "<Figure size 432x288 with 1 Axes>"
      ]
     },
     "metadata": {},
     "output_type": "display_data"
    }
   ],
   "source": [
    "plt.plot(np.array(training_state['train_loss']), label='train')\n",
    "plt.plot(np.array(training_state['val_loss']), label='val')\n",
    "plt.plot(np.array(training_state['inv_loss']), label='inv')\n",
    "plt.legend()\n",
    "plt.xlim(0, 30)\n",
    "plt.title('loss')\n",
    "plt.savefig(f'plots/{experiment_name}_loss.png')\n",
    "plt.plot()"
   ]
  },
  {
   "cell_type": "code",
   "execution_count": 36,
   "metadata": {},
   "outputs": [],
   "source": [
    "# TODO: Plot accuracy broken down by class in histogram, and show shots of poorly-classified celebrities."
   ]
  }
 ],
 "metadata": {
  "kernelspec": {
   "display_name": "Python 3",
   "language": "python",
   "name": "python3"
  },
  "language_info": {
   "codemirror_mode": {
    "name": "ipython",
    "version": 3
   },
   "file_extension": ".py",
   "mimetype": "text/x-python",
   "name": "python",
   "nbconvert_exporter": "python",
   "pygments_lexer": "ipython3",
   "version": "3.8.8"
  }
 },
 "nbformat": 4,
 "nbformat_minor": 4
}
